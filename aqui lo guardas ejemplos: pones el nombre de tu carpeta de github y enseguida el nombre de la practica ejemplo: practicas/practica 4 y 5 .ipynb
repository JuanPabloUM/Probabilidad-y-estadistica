{
  "nbformat": 4,
  "nbformat_minor": 0,
  "metadata": {
    "colab": {
      "provenance": [],
      "authorship_tag": "ABX9TyMUrudgjqgMseYNtHvE3uX/",
      "include_colab_link": true
    },
    "kernelspec": {
      "name": "python3",
      "display_name": "Python 3"
    },
    "language_info": {
      "name": "python"
    }
  },
  "cells": [
    {
      "cell_type": "markdown",
      "metadata": {
        "id": "view-in-github",
        "colab_type": "text"
      },
      "source": [
        "<a href=\"https://colab.research.google.com/github/JuanPabloUM/Probabilidad-y-estadistica/blob/main/aqui%20lo%20guardas%20ejemplos%3A%20pones%20el%20nombre%20de%20tu%20carpeta%20de%20github%20y%20enseguida%20el%20nombre%20de%20la%20practica%20ejemplo%3A%20practicas/practica%204%20y%205%20.ipynb\" target=\"_parent\"><img src=\"https://colab.research.google.com/assets/colab-badge.svg\" alt=\"Open In Colab\"/></a>"
      ]
    },
    {
      "cell_type": "code",
      "execution_count": null,
      "metadata": {
        "id": "jNAQC-6JnPLj"
      },
      "outputs": [],
      "source": [
        "aqui empieza el codigo"
      ]
    },
    {
      "cell_type": "code",
      "source": [
        "donde dice codigo creas otro codigo, en esa chingadera se corre el codigo"
      ],
      "metadata": {
        "id": "itXl7-hQnTHh"
      },
      "execution_count": null,
      "outputs": []
    },
    {
      "cell_type": "markdown",
      "source": [
        "Aquie pones el nombnre de la practica tu nombre portada y el nombre del profe"
      ],
      "metadata": {
        "id": "NbDgulXknYG5"
      }
    },
    {
      "cell_type": "markdown",
      "source": [],
      "metadata": {
        "id": "iwgzQf0_nYnR"
      }
    }
  ]
}