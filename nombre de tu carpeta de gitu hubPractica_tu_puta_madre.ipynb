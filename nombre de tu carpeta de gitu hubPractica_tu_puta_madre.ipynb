{
  "nbformat": 4,
  "nbformat_minor": 0,
  "metadata": {
    "colab": {
      "provenance": [],
      "authorship_tag": "ABX9TyOyLAxyYhccszw9DHrc7/CQ",
      "include_colab_link": true
    },
    "kernelspec": {
      "name": "python3",
      "display_name": "Python 3"
    },
    "language_info": {
      "name": "python"
    }
  },
  "cells": [
    {
      "cell_type": "markdown",
      "metadata": {
        "id": "view-in-github",
        "colab_type": "text"
      },
      "source": [
        "<a href=\"https://colab.research.google.com/github/JuanPabloUM/Probabilidad-y-estadistica/blob/main/nombre%20de%20tu%20carpeta%20de%20gitu%20hubPractica_tu_puta_madre.ipynb\" target=\"_parent\"><img src=\"https://colab.research.google.com/assets/colab-badge.svg\" alt=\"Open In Colab\"/></a>"
      ]
    },
    {
      "cell_type": "code",
      "execution_count": null,
      "metadata": {
        "id": "BPrmGNXhmlCX"
      },
      "outputs": [],
      "source": [
        "aqui va un codigo"
      ]
    },
    {
      "cell_type": "code",
      "source": [
        "aqui va otro en esa flecha te corresy luego ya"
      ],
      "metadata": {
        "colab": {
          "base_uri": "https://localhost:8080/",
          "height": 106
        },
        "id": "bx5JNxWhmqZS",
        "outputId": "2c3c18e6-f387-4a21-9e40-83f2619daf61"
      },
      "execution_count": 1,
      "outputs": [
        {
          "output_type": "error",
          "ename": "SyntaxError",
          "evalue": "invalid syntax (<ipython-input-1-4f89c9e74f11>, line 1)",
          "traceback": [
            "\u001b[0;36m  File \u001b[0;32m\"<ipython-input-1-4f89c9e74f11>\"\u001b[0;36m, line \u001b[0;32m1\u001b[0m\n\u001b[0;31m    aqui va otro\u001b[0m\n\u001b[0m         ^\u001b[0m\n\u001b[0;31mSyntaxError\u001b[0m\u001b[0;31m:\u001b[0m invalid syntax\n"
          ]
        }
      ]
    }
  ]
}