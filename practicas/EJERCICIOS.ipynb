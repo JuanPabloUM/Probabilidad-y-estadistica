{
  "nbformat": 4,
  "nbformat_minor": 0,
  "metadata": {
    "colab": {
      "provenance": [],
      "authorship_tag": "ABX9TyMJtP5umbjgvRy7lFPVQ918",
      "include_colab_link": true
    },
    "kernelspec": {
      "name": "python3",
      "display_name": "Python 3"
    },
    "language_info": {
      "name": "python"
    }
  },
  "cells": [
    {
      "cell_type": "markdown",
      "metadata": {
        "id": "view-in-github",
        "colab_type": "text"
      },
      "source": [
        "<a href=\"https://colab.research.google.com/github/JuanPabloUM/Probabilidad-y-estadistica/blob/main/practicas/EJERCICIOS.ipynb\" target=\"_parent\"><img src=\"https://colab.research.google.com/assets/colab-badge.svg\" alt=\"Open In Colab\"/></a>"
      ]
    },
    {
      "cell_type": "code",
      "execution_count": 4,
      "metadata": {
        "id": "zBYHwv9yWW4W"
      },
      "outputs": [],
      "source": [
        "import numpy as np\n",
        "from scipy.stats import binom"
      ]
    },
    {
      "cell_type": "markdown",
      "source": [
        "SERIE MUNDIAL POKER"
      ],
      "metadata": {
        "id": "_FqR5sUXW1GI"
      }
    },
    {
      "cell_type": "code",
      "source": [
        "\n",
        "X = np.array([490000, -10000])\n",
        "P = np.array([0.005, 0.995])\n",
        "valor_esperado = np.sum(X * P)\n",
        "\n",
        "print(f\"El valor esperado es: {valor_esperado} mil dólares\")"
      ],
      "metadata": {
        "colab": {
          "base_uri": "https://localhost:8080/"
        },
        "id": "hvv1mV73WYL2",
        "outputId": "dcca6295-cef9-47e9-f410-464c4626a0f9"
      },
      "execution_count": 6,
      "outputs": [
        {
          "output_type": "stream",
          "name": "stdout",
          "text": [
            "El valor esperado es: -7500.0 mil dólares\n"
          ]
        }
      ]
    },
    {
      "cell_type": "markdown",
      "source": [
        "VIAJE EN TREN"
      ],
      "metadata": {
        "id": "24h8I93VW5G2"
      }
    },
    {
      "cell_type": "code",
      "source": [
        "\n",
        "X = np.array([5, 305])\n",
        "P = np.array([0.95, 0.05])\n",
        "costo_esperado = np.sum(X * P)\n",
        "print(f\"El costo total esperado del viaje es: {costo_esperado} euros\")\n"
      ],
      "metadata": {
        "colab": {
          "base_uri": "https://localhost:8080/"
        },
        "id": "z4Nst5DDWcTq",
        "outputId": "99e0cdb3-816d-440a-f8a3-79bf0be8cc6b"
      },
      "execution_count": 7,
      "outputs": [
        {
          "output_type": "stream",
          "name": "stdout",
          "text": [
            "El costo total esperado del viaje es: 20.0 euros\n"
          ]
        }
      ]
    },
    {
      "cell_type": "markdown",
      "source": [
        "6 CARAS"
      ],
      "metadata": {
        "id": "H3gZKxTfW_S0"
      }
    },
    {
      "cell_type": "code",
      "source": [
        "\n",
        "valores = np.array([1, 2, 3, 4, 5, 6])\n",
        "probabilidades = np.full(6, 1/6)\n",
        "valor_esperado = np.sum(valores * probabilidades)\n",
        "print(\"El valor esperado del dado es:\", valor_esperado)"
      ],
      "metadata": {
        "colab": {
          "base_uri": "https://localhost:8080/"
        },
        "id": "TPhSsdlSXEa0",
        "outputId": "28f5e9b5-2d4e-4319-a00a-2e3652a7bf3c"
      },
      "execution_count": 8,
      "outputs": [
        {
          "output_type": "stream",
          "name": "stdout",
          "text": [
            "El valor esperado del dado es: 3.5\n"
          ]
        }
      ]
    },
    {
      "cell_type": "code",
      "source": [
        "\n",
        "print(\"¿El número 4 tiene más probabilidad que el 6?\", 1/6 > 1/6)\n",
        "print(\"¿3.5 puede ser un resultado?\", 3.5 in valores)\n",
        "simulaciones = np.random.choice(valores, size=100000)\n",
        "promedio = np.mean(simulaciones)\n",
        "print(\"Promedio de muchos lanzamientos:\", promedio)"
      ],
      "metadata": {
        "colab": {
          "base_uri": "https://localhost:8080/"
        },
        "id": "IcgjfzOlXJYO",
        "outputId": "6c8524c5-1047-49f8-e14e-5b35bdc68c72"
      },
      "execution_count": 9,
      "outputs": [
        {
          "output_type": "stream",
          "name": "stdout",
          "text": [
            "¿El número 4 tiene más probabilidad que el 6? False\n",
            "¿3.5 puede ser un resultado? False\n",
            "Promedio de muchos lanzamientos: 3.51277\n"
          ]
        }
      ]
    },
    {
      "cell_type": "markdown",
      "source": [
        "APUESTAS\n"
      ],
      "metadata": {
        "id": "DwvUxmWUXVWO"
      }
    },
    {
      "cell_type": "code",
      "source": [
        "ganancia_dragones = 10\n",
        "perdida_tortugas = -11\n",
        "prob_ganar = 0.5\n",
        "prob_perder = 0.5\n",
        "valor_esperado = (ganancia_dragones * prob_ganar) + (perdida_tortugas * prob_perder)\n",
        "print(\"El valor esperado de la apuesta es:\", valor_esperado, \"Dólares\")"
      ],
      "metadata": {
        "colab": {
          "base_uri": "https://localhost:8080/"
        },
        "id": "CmSeI9IxXXNO",
        "outputId": "421da744-312a-4a68-fa7e-ab34cd54a788"
      },
      "execution_count": 10,
      "outputs": [
        {
          "output_type": "stream",
          "name": "stdout",
          "text": [
            "El valor esperado de la apuesta es: -0.5 Dólares\n"
          ]
        }
      ]
    }
  ]
}